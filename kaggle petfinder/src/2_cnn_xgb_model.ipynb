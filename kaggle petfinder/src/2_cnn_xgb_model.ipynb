{
 "cells": [
  {
   "cell_type": "markdown",
   "metadata": {},
   "source": [
    "# Kaggle Competition: Patfinder Pawpularity score"
   ]
  },
  {
   "cell_type": "markdown",
   "metadata": {},
   "source": [
    "## 1. Make a model (xgboost) with CNN feautres + Extra factors"
   ]
  },
  {
   "cell_type": "markdown",
   "metadata": {},
   "source": [
    "Import libraries"
   ]
  },
  {
   "cell_type": "code",
   "execution_count": 1,
   "metadata": {},
   "outputs": [],
   "source": [
    "import os\n",
    "import random\n",
    "import pandas as pd\n",
    "import numpy as np\n",
    "from sklearn.model_selection import train_test_split\n",
    "import warnings\n",
    "from xgboost import XGBRegressor\n",
    "from torchvision import transforms\n",
    "import torch\n",
    "import torch.nn as nn\n",
    "import timm\n",
    "import matplotlib.pyplot as plt\n",
    "from tqdm import tqdm\n",
    "from sklearn.metrics import mean_squared_error \n",
    "\n",
    "#Backgrounds configurations\n",
    "warnings.filterwarnings(\"ignore\")"
   ]
  },
  {
   "cell_type": "markdown",
   "metadata": {},
   "source": [
    "Parameters and Hyperparameters"
   ]
  },
  {
   "cell_type": "code",
   "execution_count": 9,
   "metadata": {},
   "outputs": [],
   "source": [
    "# Path control\n",
    "path = '../input/petfinder-pawpularity-score/'\n",
    "img_dir = path + 'train/'\n",
    "label_path = path + 'train.csv'\n",
    "path_model = '../models/effnetb0_bs64_lr00001_m09.pt'\n",
    "\n",
    "# Parameters\n",
    "random_seed = 17\n",
    "val_size = 0.2\n",
    "\n",
    "#Hyperparameters\n",
    "params = {\n",
    "    'objective': 'reg:squarederror',\n",
    "    'n_estimators': 1000,\n",
    "    'learning_rate': 0.1,\n",
    "    'max_depth': 5, \n",
    "    'booster': 'gbtree',\n",
    "}"
   ]
  },
  {
   "cell_type": "markdown",
   "metadata": {},
   "source": [
    "Setting randomness"
   ]
  },
  {
   "cell_type": "code",
   "execution_count": 3,
   "metadata": {},
   "outputs": [],
   "source": [
    "def seed_torch(seed):\n",
    "    random.seed(seed)\n",
    "    os.environ['PYTHONHASHSEED'] = str(seed)\n",
    "    np.random.seed(seed)\n",
    "\n",
    "seed_torch(seed=random_seed)"
   ]
  },
  {
   "cell_type": "markdown",
   "metadata": {},
   "source": [
    "Help functions"
   ]
  },
  {
   "cell_type": "code",
   "execution_count": 4,
   "metadata": {},
   "outputs": [],
   "source": [
    "def rmse(Y,Y_pred):\n",
    "    return np.sqrt(mean_squared_error(Y, Y_pred))"
   ]
  },
  {
   "cell_type": "markdown",
   "metadata": {},
   "source": [
    "Instance the dataset class: train and validation instances"
   ]
  },
  {
   "cell_type": "code",
   "execution_count": 5,
   "metadata": {},
   "outputs": [],
   "source": [
    "df = pd.read_csv(label_path)\n",
    "df['nPawpularity']=(df['Pawpularity'] - df['Pawpularity'].min()) / (df['Pawpularity'].max() - df['Pawpularity'].min())\n",
    "df_train, df_val = train_test_split(df, test_size=0.2, random_state=random_seed)\n",
    "df_train.reset_index(inplace=True)\n",
    "df_val.reset_index(inplace=True)"
   ]
  },
  {
   "cell_type": "markdown",
   "metadata": {},
   "source": [
    "Dataset"
   ]
  },
  {
   "cell_type": "code",
   "execution_count": 6,
   "metadata": {},
   "outputs": [],
   "source": [
    "df_train_ = df_train.drop(columns=['index','Id','nPawpularity'])\n",
    "X = df_train_.iloc[:,:-1]\n",
    "Y = df_train_.iloc[:,-1]\n",
    "\n",
    "X_train, X_val, Y_train, Y_val = train_test_split(X, Y, test_size=val_size)"
   ]
  },
  {
   "cell_type": "markdown",
   "metadata": {},
   "source": [
    "Defining the model and training"
   ]
  },
  {
   "cell_type": "code",
   "execution_count": 10,
   "metadata": {},
   "outputs": [
    {
     "data": {
      "text/plain": [
       "XGBRegressor(base_score=None, booster='gbtree', colsample_bylevel=None,\n",
       "             colsample_bynode=None, colsample_bytree=None,\n",
       "             enable_categorical=False, gamma=None, gpu_id=None,\n",
       "             importance_type=None, interaction_constraints=None,\n",
       "             learning_rate=0.1, max_delta_step=None, max_depth=5,\n",
       "             min_child_weight=None, missing=nan, monotone_constraints=None,\n",
       "             n_estimators=1000, n_jobs=None, num_parallel_tree=None,\n",
       "             predictor=None, random_state=17, reg_alpha=None, reg_lambda=None,\n",
       "             scale_pos_weight=None, subsample=None, tree_method=None,\n",
       "             validate_parameters=None, verbosity=None)"
      ]
     },
     "execution_count": 10,
     "metadata": {},
     "output_type": "execute_result"
    }
   ],
   "source": [
    "# Model class\n",
    "model = XGBRegressor(random_state=random_seed, **params)\n",
    "model"
   ]
  },
  {
   "cell_type": "code",
   "execution_count": 11,
   "metadata": {},
   "outputs": [
    {
     "name": "stdout",
     "output_type": "stream",
     "text": [
      "[0]\tvalidation_0-rmse:39.52329\tvalidation_1-rmse:40.41046\n",
      "[1]\tvalidation_0-rmse:36.68223\tvalidation_1-rmse:37.57952\n",
      "[2]\tvalidation_0-rmse:34.20503\tvalidation_1-rmse:35.11446\n",
      "[3]\tvalidation_0-rmse:32.05112\tvalidation_1-rmse:32.97423\n",
      "[4]\tvalidation_0-rmse:30.19790\tvalidation_1-rmse:31.13201\n",
      "[5]\tvalidation_0-rmse:28.60157\tvalidation_1-rmse:29.54902\n",
      "[6]\tvalidation_0-rmse:27.23909\tvalidation_1-rmse:28.19730\n",
      "[7]\tvalidation_0-rmse:26.08084\tvalidation_1-rmse:27.05121\n",
      "[8]\tvalidation_0-rmse:25.10253\tvalidation_1-rmse:26.08358\n",
      "[9]\tvalidation_0-rmse:24.27912\tvalidation_1-rmse:25.26816\n",
      "[10]\tvalidation_0-rmse:23.58995\tvalidation_1-rmse:24.58649\n",
      "[11]\tvalidation_0-rmse:23.01651\tvalidation_1-rmse:24.01748\n",
      "[12]\tvalidation_0-rmse:22.53792\tvalidation_1-rmse:23.55284\n",
      "[13]\tvalidation_0-rmse:22.14222\tvalidation_1-rmse:23.16472\n",
      "[14]\tvalidation_0-rmse:21.81532\tvalidation_1-rmse:22.84534\n",
      "[15]\tvalidation_0-rmse:21.54681\tvalidation_1-rmse:22.58200\n",
      "[16]\tvalidation_0-rmse:21.32281\tvalidation_1-rmse:22.36092\n",
      "[17]\tvalidation_0-rmse:21.14148\tvalidation_1-rmse:22.18271\n",
      "[18]\tvalidation_0-rmse:20.98936\tvalidation_1-rmse:22.03493\n",
      "[19]\tvalidation_0-rmse:20.86746\tvalidation_1-rmse:21.91520\n",
      "[20]\tvalidation_0-rmse:20.76411\tvalidation_1-rmse:21.81813\n",
      "[21]\tvalidation_0-rmse:20.68023\tvalidation_1-rmse:21.73680\n",
      "[22]\tvalidation_0-rmse:20.61212\tvalidation_1-rmse:21.66967\n",
      "[23]\tvalidation_0-rmse:20.55739\tvalidation_1-rmse:21.61249\n",
      "[24]\tvalidation_0-rmse:20.51111\tvalidation_1-rmse:21.56780\n",
      "[25]\tvalidation_0-rmse:20.47442\tvalidation_1-rmse:21.53252\n",
      "[26]\tvalidation_0-rmse:20.44024\tvalidation_1-rmse:21.50592\n",
      "[27]\tvalidation_0-rmse:20.41522\tvalidation_1-rmse:21.47953\n",
      "[28]\tvalidation_0-rmse:20.39160\tvalidation_1-rmse:21.46285\n",
      "[29]\tvalidation_0-rmse:20.37461\tvalidation_1-rmse:21.44502\n",
      "[30]\tvalidation_0-rmse:20.35828\tvalidation_1-rmse:21.43573\n",
      "[31]\tvalidation_0-rmse:20.34536\tvalidation_1-rmse:21.42954\n",
      "[32]\tvalidation_0-rmse:20.33388\tvalidation_1-rmse:21.42299\n",
      "[33]\tvalidation_0-rmse:20.32516\tvalidation_1-rmse:21.41396\n",
      "[34]\tvalidation_0-rmse:20.31863\tvalidation_1-rmse:21.40852\n",
      "[35]\tvalidation_0-rmse:20.31330\tvalidation_1-rmse:21.40402\n",
      "[36]\tvalidation_0-rmse:20.30839\tvalidation_1-rmse:21.40081\n",
      "[37]\tvalidation_0-rmse:20.30178\tvalidation_1-rmse:21.40019\n",
      "[38]\tvalidation_0-rmse:20.29866\tvalidation_1-rmse:21.39903\n",
      "[39]\tvalidation_0-rmse:20.29316\tvalidation_1-rmse:21.40044\n",
      "[40]\tvalidation_0-rmse:20.29089\tvalidation_1-rmse:21.39965\n",
      "[41]\tvalidation_0-rmse:20.28570\tvalidation_1-rmse:21.40549\n",
      "[42]\tvalidation_0-rmse:20.28334\tvalidation_1-rmse:21.40596\n",
      "[43]\tvalidation_0-rmse:20.27834\tvalidation_1-rmse:21.40956\n",
      "[44]\tvalidation_0-rmse:20.27626\tvalidation_1-rmse:21.40831\n",
      "[45]\tvalidation_0-rmse:20.27457\tvalidation_1-rmse:21.40742\n",
      "[46]\tvalidation_0-rmse:20.27320\tvalidation_1-rmse:21.40669\n",
      "[47]\tvalidation_0-rmse:20.27005\tvalidation_1-rmse:21.41305\n"
     ]
    },
    {
     "data": {
      "text/plain": [
       "XGBRegressor(base_score=0.5, booster='gbtree', colsample_bylevel=1,\n",
       "             colsample_bynode=1, colsample_bytree=1, enable_categorical=False,\n",
       "             gamma=0, gpu_id=-1, importance_type=None,\n",
       "             interaction_constraints='', learning_rate=0.1, max_delta_step=0,\n",
       "             max_depth=5, min_child_weight=1, missing=nan,\n",
       "             monotone_constraints='()', n_estimators=1000, n_jobs=8,\n",
       "             num_parallel_tree=1, predictor='auto', random_state=17,\n",
       "             reg_alpha=0, reg_lambda=1, scale_pos_weight=1, subsample=1,\n",
       "             tree_method='exact', validate_parameters=1, verbosity=None)"
      ]
     },
     "execution_count": 11,
     "metadata": {},
     "output_type": "execute_result"
    }
   ],
   "source": [
    "model.fit(X_train, Y_train, early_stopping_rounds=10, eval_set= [(X_train, Y_train), (X_val, Y_val)])"
   ]
  },
  {
   "cell_type": "markdown",
   "metadata": {},
   "source": [
    "Evaluation"
   ]
  },
  {
   "cell_type": "code",
   "execution_count": 12,
   "metadata": {},
   "outputs": [
    {
     "name": "stdout",
     "output_type": "stream",
     "text": [
      "RMSE val = 21.39903336184288\n"
     ]
    }
   ],
   "source": [
    "Y_preds = model.predict(X_val)\n",
    "rmse_val = rmse(Y_val,Y_preds)\n",
    "print(f\"RMSE val = {rmse_val}\")"
   ]
  },
  {
   "cell_type": "code",
   "execution_count": 14,
   "metadata": {},
   "outputs": [
    {
     "data": {
      "text/plain": [
       "(848, 37.470135, 43)"
      ]
     },
     "execution_count": 14,
     "metadata": {},
     "output_type": "execute_result"
    }
   ],
   "source": [
    "ix = random.randint(0,len(Y_preds))\n",
    "ix, Y_preds[ix], Y_val.iloc[ix]"
   ]
  },
  {
   "cell_type": "markdown",
   "metadata": {},
   "source": [
    "Getting the feature map of each image from the CNN"
   ]
  },
  {
   "cell_type": "markdown",
   "metadata": {},
   "source": [
    "Load CNN model"
   ]
  },
  {
   "cell_type": "markdown",
   "metadata": {},
   "source": [
    "Images paths"
   ]
  },
  {
   "cell_type": "code",
   "execution_count": 15,
   "metadata": {},
   "outputs": [
    {
     "data": {
      "text/html": [
       "<div>\n",
       "<style scoped>\n",
       "    .dataframe tbody tr th:only-of-type {\n",
       "        vertical-align: middle;\n",
       "    }\n",
       "\n",
       "    .dataframe tbody tr th {\n",
       "        vertical-align: top;\n",
       "    }\n",
       "\n",
       "    .dataframe thead th {\n",
       "        text-align: right;\n",
       "    }\n",
       "</style>\n",
       "<table border=\"1\" class=\"dataframe\">\n",
       "  <thead>\n",
       "    <tr style=\"text-align: right;\">\n",
       "      <th></th>\n",
       "      <th>index</th>\n",
       "      <th>Id</th>\n",
       "      <th>Subject Focus</th>\n",
       "      <th>Eyes</th>\n",
       "      <th>Face</th>\n",
       "      <th>Near</th>\n",
       "      <th>Action</th>\n",
       "      <th>Accessory</th>\n",
       "      <th>Group</th>\n",
       "      <th>Collage</th>\n",
       "      <th>Human</th>\n",
       "      <th>Occlusion</th>\n",
       "      <th>Info</th>\n",
       "      <th>Blur</th>\n",
       "      <th>Pawpularity</th>\n",
       "      <th>nPawpularity</th>\n",
       "      <th>path</th>\n",
       "    </tr>\n",
       "  </thead>\n",
       "  <tbody>\n",
       "    <tr>\n",
       "      <th>0</th>\n",
       "      <td>5481</td>\n",
       "      <td>8d39384ff786f101be108a7bcb734907</td>\n",
       "      <td>0</td>\n",
       "      <td>1</td>\n",
       "      <td>1</td>\n",
       "      <td>1</td>\n",
       "      <td>0</td>\n",
       "      <td>0</td>\n",
       "      <td>0</td>\n",
       "      <td>0</td>\n",
       "      <td>0</td>\n",
       "      <td>0</td>\n",
       "      <td>0</td>\n",
       "      <td>0</td>\n",
       "      <td>29</td>\n",
       "      <td>0.282828</td>\n",
       "      <td>../input/petfinder-pawpularity-score/train/8d3...</td>\n",
       "    </tr>\n",
       "    <tr>\n",
       "      <th>1</th>\n",
       "      <td>5441</td>\n",
       "      <td>8c0f8cd3c05d5c33cc069b2c0b5b0098</td>\n",
       "      <td>0</td>\n",
       "      <td>1</td>\n",
       "      <td>1</td>\n",
       "      <td>1</td>\n",
       "      <td>0</td>\n",
       "      <td>0</td>\n",
       "      <td>0</td>\n",
       "      <td>0</td>\n",
       "      <td>1</td>\n",
       "      <td>0</td>\n",
       "      <td>0</td>\n",
       "      <td>0</td>\n",
       "      <td>21</td>\n",
       "      <td>0.202020</td>\n",
       "      <td>../input/petfinder-pawpularity-score/train/8c0...</td>\n",
       "    </tr>\n",
       "    <tr>\n",
       "      <th>2</th>\n",
       "      <td>69</td>\n",
       "      <td>01a5427a15d9a398116c92724abb6e16</td>\n",
       "      <td>0</td>\n",
       "      <td>1</td>\n",
       "      <td>1</td>\n",
       "      <td>1</td>\n",
       "      <td>0</td>\n",
       "      <td>0</td>\n",
       "      <td>0</td>\n",
       "      <td>0</td>\n",
       "      <td>0</td>\n",
       "      <td>0</td>\n",
       "      <td>0</td>\n",
       "      <td>0</td>\n",
       "      <td>40</td>\n",
       "      <td>0.393939</td>\n",
       "      <td>../input/petfinder-pawpularity-score/train/01a...</td>\n",
       "    </tr>\n",
       "    <tr>\n",
       "      <th>3</th>\n",
       "      <td>5119</td>\n",
       "      <td>83ffc3a217289c40605c8bdc21e05939</td>\n",
       "      <td>0</td>\n",
       "      <td>0</td>\n",
       "      <td>1</td>\n",
       "      <td>1</td>\n",
       "      <td>0</td>\n",
       "      <td>0</td>\n",
       "      <td>0</td>\n",
       "      <td>0</td>\n",
       "      <td>0</td>\n",
       "      <td>1</td>\n",
       "      <td>1</td>\n",
       "      <td>1</td>\n",
       "      <td>31</td>\n",
       "      <td>0.303030</td>\n",
       "      <td>../input/petfinder-pawpularity-score/train/83f...</td>\n",
       "    </tr>\n",
       "    <tr>\n",
       "      <th>4</th>\n",
       "      <td>2770</td>\n",
       "      <td>475c2ac1aa6eb3e280808d4e56a91e7d</td>\n",
       "      <td>0</td>\n",
       "      <td>1</td>\n",
       "      <td>1</td>\n",
       "      <td>1</td>\n",
       "      <td>0</td>\n",
       "      <td>0</td>\n",
       "      <td>1</td>\n",
       "      <td>0</td>\n",
       "      <td>0</td>\n",
       "      <td>0</td>\n",
       "      <td>0</td>\n",
       "      <td>0</td>\n",
       "      <td>28</td>\n",
       "      <td>0.272727</td>\n",
       "      <td>../input/petfinder-pawpularity-score/train/475...</td>\n",
       "    </tr>\n",
       "  </tbody>\n",
       "</table>\n",
       "</div>"
      ],
      "text/plain": [
       "   index                                Id  Subject Focus  Eyes  Face  Near  \\\n",
       "0   5481  8d39384ff786f101be108a7bcb734907              0     1     1     1   \n",
       "1   5441  8c0f8cd3c05d5c33cc069b2c0b5b0098              0     1     1     1   \n",
       "2     69  01a5427a15d9a398116c92724abb6e16              0     1     1     1   \n",
       "3   5119  83ffc3a217289c40605c8bdc21e05939              0     0     1     1   \n",
       "4   2770  475c2ac1aa6eb3e280808d4e56a91e7d              0     1     1     1   \n",
       "\n",
       "   Action  Accessory  Group  Collage  Human  Occlusion  Info  Blur  \\\n",
       "0       0          0      0        0      0          0     0     0   \n",
       "1       0          0      0        0      1          0     0     0   \n",
       "2       0          0      0        0      0          0     0     0   \n",
       "3       0          0      0        0      0          1     1     1   \n",
       "4       0          0      1        0      0          0     0     0   \n",
       "\n",
       "   Pawpularity  nPawpularity  \\\n",
       "0           29      0.282828   \n",
       "1           21      0.202020   \n",
       "2           40      0.393939   \n",
       "3           31      0.303030   \n",
       "4           28      0.272727   \n",
       "\n",
       "                                                path  \n",
       "0  ../input/petfinder-pawpularity-score/train/8d3...  \n",
       "1  ../input/petfinder-pawpularity-score/train/8c0...  \n",
       "2  ../input/petfinder-pawpularity-score/train/01a...  \n",
       "3  ../input/petfinder-pawpularity-score/train/83f...  \n",
       "4  ../input/petfinder-pawpularity-score/train/475...  "
      ]
     },
     "execution_count": 15,
     "metadata": {},
     "output_type": "execute_result"
    }
   ],
   "source": [
    "df_train['path'] = path + 'train/' + df_train['Id'] + '.jpg'\n",
    "df_train.head()"
   ]
  },
  {
   "cell_type": "markdown",
   "metadata": {},
   "source": [
    "Preprocessing images"
   ]
  },
  {
   "cell_type": "code",
   "execution_count": 16,
   "metadata": {},
   "outputs": [],
   "source": [
    "img_size = 224\n",
    "batch_size = 256\n",
    "num_workers=0#4\n",
    "pin_memory=False#True\n",
    "\n",
    "# To make transformations of the images\n",
    "transform = transforms.Compose(\n",
    "                   [\n",
    "                    transforms.ToTensor(),\n",
    "                    transforms.Resize((img_size,img_size)),\n",
    "                    transforms.Normalize((0.5, 0.5, 0.5), (0.5, 0.5, 0.5))\n",
    "                   ])\n",
    "\n",
    "class Dataset_train(torch.utils.data.Dataset):\n",
    "    def __init__(self, img_dir, dataframe, img_name, transform=None):\n",
    "        self.img_dir = img_dir\n",
    "        self.dataframe = dataframe\n",
    "        self.transform = transform\n",
    "        self.img_name = img_name\n",
    "        \n",
    "    def __len__(self):\n",
    "        return len(self.dataframe)\n",
    "\n",
    "    def __getitem__(self, ix):\n",
    "        img_id = self.dataframe[self.img_name][ix] \n",
    "        img_path = self.img_dir + img_id + '.jpg'\n",
    "        X_ix = plt.imread(img_path)\n",
    "        if self.transform:\n",
    "            X_ix = self.transform(X_ix)\n",
    "        return img_id, X_ix\n",
    "\n",
    "dataset_train = Dataset_train(img_dir, df_train , 'Id', transform=transform)\n",
    "dataloader_train = torch.utils.data.DataLoader(dataset_train, batch_size=batch_size, num_workers=num_workers, pin_memory=pin_memory)        "
   ]
  },
  {
   "cell_type": "markdown",
   "metadata": {},
   "source": [
    "Device"
   ]
  },
  {
   "cell_type": "code",
   "execution_count": 17,
   "metadata": {},
   "outputs": [
    {
     "name": "stdout",
     "output_type": "stream",
     "text": [
      "Using device: cuda\n"
     ]
    }
   ],
   "source": [
    "device = torch.device('cuda' if torch.cuda.is_available() else 'cpu')\n",
    "print('Using device:', device)"
   ]
  },
  {
   "cell_type": "markdown",
   "metadata": {},
   "source": [
    "Load CNN"
   ]
  },
  {
   "cell_type": "code",
   "execution_count": 18,
   "metadata": {},
   "outputs": [
    {
     "data": {
      "text/plain": [
       "Net_pretrained(\n",
       "  (model): EfficientNet(\n",
       "    (conv_stem): Conv2dSame(3, 32, kernel_size=(3, 3), stride=(2, 2), bias=False)\n",
       "    (bn1): BatchNorm2d(32, eps=0.001, momentum=0.1, affine=True, track_running_stats=True)\n",
       "    (act1): SiLU(inplace=True)\n",
       "    (blocks): Sequential(\n",
       "      (0): Sequential(\n",
       "        (0): DepthwiseSeparableConv(\n",
       "          (conv_dw): Conv2d(32, 32, kernel_size=(3, 3), stride=(1, 1), padding=(1, 1), groups=32, bias=False)\n",
       "          (bn1): BatchNorm2d(32, eps=0.001, momentum=0.1, affine=True, track_running_stats=True)\n",
       "          (act1): SiLU(inplace=True)\n",
       "          (se): SqueezeExcite(\n",
       "            (conv_reduce): Conv2d(32, 8, kernel_size=(1, 1), stride=(1, 1))\n",
       "            (act1): SiLU(inplace=True)\n",
       "            (conv_expand): Conv2d(8, 32, kernel_size=(1, 1), stride=(1, 1))\n",
       "            (gate): Sigmoid()\n",
       "          )\n",
       "          (conv_pw): Conv2d(32, 16, kernel_size=(1, 1), stride=(1, 1), bias=False)\n",
       "          (bn2): BatchNorm2d(16, eps=0.001, momentum=0.1, affine=True, track_running_stats=True)\n",
       "          (act2): Identity()\n",
       "        )\n",
       "      )\n",
       "      (1): Sequential(\n",
       "        (0): InvertedResidual(\n",
       "          (conv_pw): Conv2d(16, 96, kernel_size=(1, 1), stride=(1, 1), bias=False)\n",
       "          (bn1): BatchNorm2d(96, eps=0.001, momentum=0.1, affine=True, track_running_stats=True)\n",
       "          (act1): SiLU(inplace=True)\n",
       "          (conv_dw): Conv2dSame(96, 96, kernel_size=(3, 3), stride=(2, 2), groups=96, bias=False)\n",
       "          (bn2): BatchNorm2d(96, eps=0.001, momentum=0.1, affine=True, track_running_stats=True)\n",
       "          (act2): SiLU(inplace=True)\n",
       "          (se): SqueezeExcite(\n",
       "            (conv_reduce): Conv2d(96, 4, kernel_size=(1, 1), stride=(1, 1))\n",
       "            (act1): SiLU(inplace=True)\n",
       "            (conv_expand): Conv2d(4, 96, kernel_size=(1, 1), stride=(1, 1))\n",
       "            (gate): Sigmoid()\n",
       "          )\n",
       "          (conv_pwl): Conv2d(96, 24, kernel_size=(1, 1), stride=(1, 1), bias=False)\n",
       "          (bn3): BatchNorm2d(24, eps=0.001, momentum=0.1, affine=True, track_running_stats=True)\n",
       "        )\n",
       "        (1): InvertedResidual(\n",
       "          (conv_pw): Conv2d(24, 144, kernel_size=(1, 1), stride=(1, 1), bias=False)\n",
       "          (bn1): BatchNorm2d(144, eps=0.001, momentum=0.1, affine=True, track_running_stats=True)\n",
       "          (act1): SiLU(inplace=True)\n",
       "          (conv_dw): Conv2d(144, 144, kernel_size=(3, 3), stride=(1, 1), padding=(1, 1), groups=144, bias=False)\n",
       "          (bn2): BatchNorm2d(144, eps=0.001, momentum=0.1, affine=True, track_running_stats=True)\n",
       "          (act2): SiLU(inplace=True)\n",
       "          (se): SqueezeExcite(\n",
       "            (conv_reduce): Conv2d(144, 6, kernel_size=(1, 1), stride=(1, 1))\n",
       "            (act1): SiLU(inplace=True)\n",
       "            (conv_expand): Conv2d(6, 144, kernel_size=(1, 1), stride=(1, 1))\n",
       "            (gate): Sigmoid()\n",
       "          )\n",
       "          (conv_pwl): Conv2d(144, 24, kernel_size=(1, 1), stride=(1, 1), bias=False)\n",
       "          (bn3): BatchNorm2d(24, eps=0.001, momentum=0.1, affine=True, track_running_stats=True)\n",
       "        )\n",
       "      )\n",
       "      (2): Sequential(\n",
       "        (0): InvertedResidual(\n",
       "          (conv_pw): Conv2d(24, 144, kernel_size=(1, 1), stride=(1, 1), bias=False)\n",
       "          (bn1): BatchNorm2d(144, eps=0.001, momentum=0.1, affine=True, track_running_stats=True)\n",
       "          (act1): SiLU(inplace=True)\n",
       "          (conv_dw): Conv2dSame(144, 144, kernel_size=(5, 5), stride=(2, 2), groups=144, bias=False)\n",
       "          (bn2): BatchNorm2d(144, eps=0.001, momentum=0.1, affine=True, track_running_stats=True)\n",
       "          (act2): SiLU(inplace=True)\n",
       "          (se): SqueezeExcite(\n",
       "            (conv_reduce): Conv2d(144, 6, kernel_size=(1, 1), stride=(1, 1))\n",
       "            (act1): SiLU(inplace=True)\n",
       "            (conv_expand): Conv2d(6, 144, kernel_size=(1, 1), stride=(1, 1))\n",
       "            (gate): Sigmoid()\n",
       "          )\n",
       "          (conv_pwl): Conv2d(144, 40, kernel_size=(1, 1), stride=(1, 1), bias=False)\n",
       "          (bn3): BatchNorm2d(40, eps=0.001, momentum=0.1, affine=True, track_running_stats=True)\n",
       "        )\n",
       "        (1): InvertedResidual(\n",
       "          (conv_pw): Conv2d(40, 240, kernel_size=(1, 1), stride=(1, 1), bias=False)\n",
       "          (bn1): BatchNorm2d(240, eps=0.001, momentum=0.1, affine=True, track_running_stats=True)\n",
       "          (act1): SiLU(inplace=True)\n",
       "          (conv_dw): Conv2d(240, 240, kernel_size=(5, 5), stride=(1, 1), padding=(2, 2), groups=240, bias=False)\n",
       "          (bn2): BatchNorm2d(240, eps=0.001, momentum=0.1, affine=True, track_running_stats=True)\n",
       "          (act2): SiLU(inplace=True)\n",
       "          (se): SqueezeExcite(\n",
       "            (conv_reduce): Conv2d(240, 10, kernel_size=(1, 1), stride=(1, 1))\n",
       "            (act1): SiLU(inplace=True)\n",
       "            (conv_expand): Conv2d(10, 240, kernel_size=(1, 1), stride=(1, 1))\n",
       "            (gate): Sigmoid()\n",
       "          )\n",
       "          (conv_pwl): Conv2d(240, 40, kernel_size=(1, 1), stride=(1, 1), bias=False)\n",
       "          (bn3): BatchNorm2d(40, eps=0.001, momentum=0.1, affine=True, track_running_stats=True)\n",
       "        )\n",
       "      )\n",
       "      (3): Sequential(\n",
       "        (0): InvertedResidual(\n",
       "          (conv_pw): Conv2d(40, 240, kernel_size=(1, 1), stride=(1, 1), bias=False)\n",
       "          (bn1): BatchNorm2d(240, eps=0.001, momentum=0.1, affine=True, track_running_stats=True)\n",
       "          (act1): SiLU(inplace=True)\n",
       "          (conv_dw): Conv2dSame(240, 240, kernel_size=(3, 3), stride=(2, 2), groups=240, bias=False)\n",
       "          (bn2): BatchNorm2d(240, eps=0.001, momentum=0.1, affine=True, track_running_stats=True)\n",
       "          (act2): SiLU(inplace=True)\n",
       "          (se): SqueezeExcite(\n",
       "            (conv_reduce): Conv2d(240, 10, kernel_size=(1, 1), stride=(1, 1))\n",
       "            (act1): SiLU(inplace=True)\n",
       "            (conv_expand): Conv2d(10, 240, kernel_size=(1, 1), stride=(1, 1))\n",
       "            (gate): Sigmoid()\n",
       "          )\n",
       "          (conv_pwl): Conv2d(240, 80, kernel_size=(1, 1), stride=(1, 1), bias=False)\n",
       "          (bn3): BatchNorm2d(80, eps=0.001, momentum=0.1, affine=True, track_running_stats=True)\n",
       "        )\n",
       "        (1): InvertedResidual(\n",
       "          (conv_pw): Conv2d(80, 480, kernel_size=(1, 1), stride=(1, 1), bias=False)\n",
       "          (bn1): BatchNorm2d(480, eps=0.001, momentum=0.1, affine=True, track_running_stats=True)\n",
       "          (act1): SiLU(inplace=True)\n",
       "          (conv_dw): Conv2d(480, 480, kernel_size=(3, 3), stride=(1, 1), padding=(1, 1), groups=480, bias=False)\n",
       "          (bn2): BatchNorm2d(480, eps=0.001, momentum=0.1, affine=True, track_running_stats=True)\n",
       "          (act2): SiLU(inplace=True)\n",
       "          (se): SqueezeExcite(\n",
       "            (conv_reduce): Conv2d(480, 20, kernel_size=(1, 1), stride=(1, 1))\n",
       "            (act1): SiLU(inplace=True)\n",
       "            (conv_expand): Conv2d(20, 480, kernel_size=(1, 1), stride=(1, 1))\n",
       "            (gate): Sigmoid()\n",
       "          )\n",
       "          (conv_pwl): Conv2d(480, 80, kernel_size=(1, 1), stride=(1, 1), bias=False)\n",
       "          (bn3): BatchNorm2d(80, eps=0.001, momentum=0.1, affine=True, track_running_stats=True)\n",
       "        )\n",
       "        (2): InvertedResidual(\n",
       "          (conv_pw): Conv2d(80, 480, kernel_size=(1, 1), stride=(1, 1), bias=False)\n",
       "          (bn1): BatchNorm2d(480, eps=0.001, momentum=0.1, affine=True, track_running_stats=True)\n",
       "          (act1): SiLU(inplace=True)\n",
       "          (conv_dw): Conv2d(480, 480, kernel_size=(3, 3), stride=(1, 1), padding=(1, 1), groups=480, bias=False)\n",
       "          (bn2): BatchNorm2d(480, eps=0.001, momentum=0.1, affine=True, track_running_stats=True)\n",
       "          (act2): SiLU(inplace=True)\n",
       "          (se): SqueezeExcite(\n",
       "            (conv_reduce): Conv2d(480, 20, kernel_size=(1, 1), stride=(1, 1))\n",
       "            (act1): SiLU(inplace=True)\n",
       "            (conv_expand): Conv2d(20, 480, kernel_size=(1, 1), stride=(1, 1))\n",
       "            (gate): Sigmoid()\n",
       "          )\n",
       "          (conv_pwl): Conv2d(480, 80, kernel_size=(1, 1), stride=(1, 1), bias=False)\n",
       "          (bn3): BatchNorm2d(80, eps=0.001, momentum=0.1, affine=True, track_running_stats=True)\n",
       "        )\n",
       "      )\n",
       "      (4): Sequential(\n",
       "        (0): InvertedResidual(\n",
       "          (conv_pw): Conv2d(80, 480, kernel_size=(1, 1), stride=(1, 1), bias=False)\n",
       "          (bn1): BatchNorm2d(480, eps=0.001, momentum=0.1, affine=True, track_running_stats=True)\n",
       "          (act1): SiLU(inplace=True)\n",
       "          (conv_dw): Conv2d(480, 480, kernel_size=(5, 5), stride=(1, 1), padding=(2, 2), groups=480, bias=False)\n",
       "          (bn2): BatchNorm2d(480, eps=0.001, momentum=0.1, affine=True, track_running_stats=True)\n",
       "          (act2): SiLU(inplace=True)\n",
       "          (se): SqueezeExcite(\n",
       "            (conv_reduce): Conv2d(480, 20, kernel_size=(1, 1), stride=(1, 1))\n",
       "            (act1): SiLU(inplace=True)\n",
       "            (conv_expand): Conv2d(20, 480, kernel_size=(1, 1), stride=(1, 1))\n",
       "            (gate): Sigmoid()\n",
       "          )\n",
       "          (conv_pwl): Conv2d(480, 112, kernel_size=(1, 1), stride=(1, 1), bias=False)\n",
       "          (bn3): BatchNorm2d(112, eps=0.001, momentum=0.1, affine=True, track_running_stats=True)\n",
       "        )\n",
       "        (1): InvertedResidual(\n",
       "          (conv_pw): Conv2d(112, 672, kernel_size=(1, 1), stride=(1, 1), bias=False)\n",
       "          (bn1): BatchNorm2d(672, eps=0.001, momentum=0.1, affine=True, track_running_stats=True)\n",
       "          (act1): SiLU(inplace=True)\n",
       "          (conv_dw): Conv2d(672, 672, kernel_size=(5, 5), stride=(1, 1), padding=(2, 2), groups=672, bias=False)\n",
       "          (bn2): BatchNorm2d(672, eps=0.001, momentum=0.1, affine=True, track_running_stats=True)\n",
       "          (act2): SiLU(inplace=True)\n",
       "          (se): SqueezeExcite(\n",
       "            (conv_reduce): Conv2d(672, 28, kernel_size=(1, 1), stride=(1, 1))\n",
       "            (act1): SiLU(inplace=True)\n",
       "            (conv_expand): Conv2d(28, 672, kernel_size=(1, 1), stride=(1, 1))\n",
       "            (gate): Sigmoid()\n",
       "          )\n",
       "          (conv_pwl): Conv2d(672, 112, kernel_size=(1, 1), stride=(1, 1), bias=False)\n",
       "          (bn3): BatchNorm2d(112, eps=0.001, momentum=0.1, affine=True, track_running_stats=True)\n",
       "        )\n",
       "        (2): InvertedResidual(\n",
       "          (conv_pw): Conv2d(112, 672, kernel_size=(1, 1), stride=(1, 1), bias=False)\n",
       "          (bn1): BatchNorm2d(672, eps=0.001, momentum=0.1, affine=True, track_running_stats=True)\n",
       "          (act1): SiLU(inplace=True)\n",
       "          (conv_dw): Conv2d(672, 672, kernel_size=(5, 5), stride=(1, 1), padding=(2, 2), groups=672, bias=False)\n",
       "          (bn2): BatchNorm2d(672, eps=0.001, momentum=0.1, affine=True, track_running_stats=True)\n",
       "          (act2): SiLU(inplace=True)\n",
       "          (se): SqueezeExcite(\n",
       "            (conv_reduce): Conv2d(672, 28, kernel_size=(1, 1), stride=(1, 1))\n",
       "            (act1): SiLU(inplace=True)\n",
       "            (conv_expand): Conv2d(28, 672, kernel_size=(1, 1), stride=(1, 1))\n",
       "            (gate): Sigmoid()\n",
       "          )\n",
       "          (conv_pwl): Conv2d(672, 112, kernel_size=(1, 1), stride=(1, 1), bias=False)\n",
       "          (bn3): BatchNorm2d(112, eps=0.001, momentum=0.1, affine=True, track_running_stats=True)\n",
       "        )\n",
       "      )\n",
       "      (5): Sequential(\n",
       "        (0): InvertedResidual(\n",
       "          (conv_pw): Conv2d(112, 672, kernel_size=(1, 1), stride=(1, 1), bias=False)\n",
       "          (bn1): BatchNorm2d(672, eps=0.001, momentum=0.1, affine=True, track_running_stats=True)\n",
       "          (act1): SiLU(inplace=True)\n",
       "          (conv_dw): Conv2dSame(672, 672, kernel_size=(5, 5), stride=(2, 2), groups=672, bias=False)\n",
       "          (bn2): BatchNorm2d(672, eps=0.001, momentum=0.1, affine=True, track_running_stats=True)\n",
       "          (act2): SiLU(inplace=True)\n",
       "          (se): SqueezeExcite(\n",
       "            (conv_reduce): Conv2d(672, 28, kernel_size=(1, 1), stride=(1, 1))\n",
       "            (act1): SiLU(inplace=True)\n",
       "            (conv_expand): Conv2d(28, 672, kernel_size=(1, 1), stride=(1, 1))\n",
       "            (gate): Sigmoid()\n",
       "          )\n",
       "          (conv_pwl): Conv2d(672, 192, kernel_size=(1, 1), stride=(1, 1), bias=False)\n",
       "          (bn3): BatchNorm2d(192, eps=0.001, momentum=0.1, affine=True, track_running_stats=True)\n",
       "        )\n",
       "        (1): InvertedResidual(\n",
       "          (conv_pw): Conv2d(192, 1152, kernel_size=(1, 1), stride=(1, 1), bias=False)\n",
       "          (bn1): BatchNorm2d(1152, eps=0.001, momentum=0.1, affine=True, track_running_stats=True)\n",
       "          (act1): SiLU(inplace=True)\n",
       "          (conv_dw): Conv2d(1152, 1152, kernel_size=(5, 5), stride=(1, 1), padding=(2, 2), groups=1152, bias=False)\n",
       "          (bn2): BatchNorm2d(1152, eps=0.001, momentum=0.1, affine=True, track_running_stats=True)\n",
       "          (act2): SiLU(inplace=True)\n",
       "          (se): SqueezeExcite(\n",
       "            (conv_reduce): Conv2d(1152, 48, kernel_size=(1, 1), stride=(1, 1))\n",
       "            (act1): SiLU(inplace=True)\n",
       "            (conv_expand): Conv2d(48, 1152, kernel_size=(1, 1), stride=(1, 1))\n",
       "            (gate): Sigmoid()\n",
       "          )\n",
       "          (conv_pwl): Conv2d(1152, 192, kernel_size=(1, 1), stride=(1, 1), bias=False)\n",
       "          (bn3): BatchNorm2d(192, eps=0.001, momentum=0.1, affine=True, track_running_stats=True)\n",
       "        )\n",
       "        (2): InvertedResidual(\n",
       "          (conv_pw): Conv2d(192, 1152, kernel_size=(1, 1), stride=(1, 1), bias=False)\n",
       "          (bn1): BatchNorm2d(1152, eps=0.001, momentum=0.1, affine=True, track_running_stats=True)\n",
       "          (act1): SiLU(inplace=True)\n",
       "          (conv_dw): Conv2d(1152, 1152, kernel_size=(5, 5), stride=(1, 1), padding=(2, 2), groups=1152, bias=False)\n",
       "          (bn2): BatchNorm2d(1152, eps=0.001, momentum=0.1, affine=True, track_running_stats=True)\n",
       "          (act2): SiLU(inplace=True)\n",
       "          (se): SqueezeExcite(\n",
       "            (conv_reduce): Conv2d(1152, 48, kernel_size=(1, 1), stride=(1, 1))\n",
       "            (act1): SiLU(inplace=True)\n",
       "            (conv_expand): Conv2d(48, 1152, kernel_size=(1, 1), stride=(1, 1))\n",
       "            (gate): Sigmoid()\n",
       "          )\n",
       "          (conv_pwl): Conv2d(1152, 192, kernel_size=(1, 1), stride=(1, 1), bias=False)\n",
       "          (bn3): BatchNorm2d(192, eps=0.001, momentum=0.1, affine=True, track_running_stats=True)\n",
       "        )\n",
       "        (3): InvertedResidual(\n",
       "          (conv_pw): Conv2d(192, 1152, kernel_size=(1, 1), stride=(1, 1), bias=False)\n",
       "          (bn1): BatchNorm2d(1152, eps=0.001, momentum=0.1, affine=True, track_running_stats=True)\n",
       "          (act1): SiLU(inplace=True)\n",
       "          (conv_dw): Conv2d(1152, 1152, kernel_size=(5, 5), stride=(1, 1), padding=(2, 2), groups=1152, bias=False)\n",
       "          (bn2): BatchNorm2d(1152, eps=0.001, momentum=0.1, affine=True, track_running_stats=True)\n",
       "          (act2): SiLU(inplace=True)\n",
       "          (se): SqueezeExcite(\n",
       "            (conv_reduce): Conv2d(1152, 48, kernel_size=(1, 1), stride=(1, 1))\n",
       "            (act1): SiLU(inplace=True)\n",
       "            (conv_expand): Conv2d(48, 1152, kernel_size=(1, 1), stride=(1, 1))\n",
       "            (gate): Sigmoid()\n",
       "          )\n",
       "          (conv_pwl): Conv2d(1152, 192, kernel_size=(1, 1), stride=(1, 1), bias=False)\n",
       "          (bn3): BatchNorm2d(192, eps=0.001, momentum=0.1, affine=True, track_running_stats=True)\n",
       "        )\n",
       "      )\n",
       "      (6): Sequential(\n",
       "        (0): InvertedResidual(\n",
       "          (conv_pw): Conv2d(192, 1152, kernel_size=(1, 1), stride=(1, 1), bias=False)\n",
       "          (bn1): BatchNorm2d(1152, eps=0.001, momentum=0.1, affine=True, track_running_stats=True)\n",
       "          (act1): SiLU(inplace=True)\n",
       "          (conv_dw): Conv2d(1152, 1152, kernel_size=(3, 3), stride=(1, 1), padding=(1, 1), groups=1152, bias=False)\n",
       "          (bn2): BatchNorm2d(1152, eps=0.001, momentum=0.1, affine=True, track_running_stats=True)\n",
       "          (act2): SiLU(inplace=True)\n",
       "          (se): SqueezeExcite(\n",
       "            (conv_reduce): Conv2d(1152, 48, kernel_size=(1, 1), stride=(1, 1))\n",
       "            (act1): SiLU(inplace=True)\n",
       "            (conv_expand): Conv2d(48, 1152, kernel_size=(1, 1), stride=(1, 1))\n",
       "            (gate): Sigmoid()\n",
       "          )\n",
       "          (conv_pwl): Conv2d(1152, 320, kernel_size=(1, 1), stride=(1, 1), bias=False)\n",
       "          (bn3): BatchNorm2d(320, eps=0.001, momentum=0.1, affine=True, track_running_stats=True)\n",
       "        )\n",
       "      )\n",
       "    )\n",
       "    (conv_head): Conv2d(320, 1280, kernel_size=(1, 1), stride=(1, 1), bias=False)\n",
       "    (bn2): BatchNorm2d(1280, eps=0.001, momentum=0.1, affine=True, track_running_stats=True)\n",
       "    (act2): SiLU(inplace=True)\n",
       "    (global_pool): SelectAdaptivePool2d (pool_type=avg, flatten=Flatten(start_dim=1, end_dim=-1))\n",
       "    (classifier): Identity()\n",
       "  )\n",
       "  (fc): Linear(in_features=1280, out_features=1, bias=True)\n",
       ")"
      ]
     },
     "execution_count": 18,
     "metadata": {},
     "output_type": "execute_result"
    }
   ],
   "source": [
    "class Net_pretrained(nn.Module):\n",
    "    def __init__(self, timm_model_name, target_size, pretrained=True):\n",
    "        super().__init__()\n",
    "        self.model = timm.create_model(timm_model_name, pretrained=pretrained)\n",
    "        self.n_features = self.model.classifier.in_features\n",
    "        self.model.classifier = nn.Identity()\n",
    "        self.fc = nn.Linear(self.n_features, target_size)\n",
    "\n",
    "    def feature(self, image):\n",
    "        feature = self.model(image)\n",
    "        return feature\n",
    "\n",
    "    def forward(self, image):\n",
    "        feature = self.feature(image)\n",
    "        output = self.fc(feature)\n",
    "        return output\n",
    "\n",
    "MODEL_NAME='tf_efficientnet_b0_ns'\n",
    "model = Net_pretrained(timm_model_name=MODEL_NAME, target_size=1, pretrained=False)\n",
    "model.to(device)\n",
    "model.load_state_dict(torch.load(path_model))\n",
    "model.eval()"
   ]
  },
  {
   "cell_type": "markdown",
   "metadata": {},
   "source": [
    "Try an tensor sample"
   ]
  },
  {
   "cell_type": "code",
   "execution_count": 19,
   "metadata": {},
   "outputs": [
    {
     "data": {
      "text/plain": [
       "torch.Size([5, 1280])"
      ]
     },
     "execution_count": 19,
     "metadata": {},
     "output_type": "execute_result"
    }
   ],
   "source": [
    "tensordeprueba = torch.load('../others/tensordeprueba.pt', map_location=torch.device(device))\n",
    "feature_map = model.feature(tensordeprueba)\n",
    "feature_map.shape"
   ]
  },
  {
   "cell_type": "markdown",
   "metadata": {},
   "source": [
    "Inference over training set"
   ]
  },
  {
   "cell_type": "markdown",
   "metadata": {},
   "source": [
    "Getting the feature map (not the final prediction) : 1280 features for each image"
   ]
  },
  {
   "cell_type": "code",
   "execution_count": 20,
   "metadata": {},
   "outputs": [
    {
     "name": "stderr",
     "output_type": "stream",
     "text": [
      "100%|██████████| 31/31 [02:35<00:00,  5.03s/it]\n"
     ]
    },
    {
     "data": {
      "text/plain": [
       "(7929, 1280)"
      ]
     },
     "execution_count": 20,
     "metadata": {},
     "output_type": "execute_result"
    }
   ],
   "source": [
    "y_hat_all = []\n",
    "id_img_all = []\n",
    "bar = tqdm(dataloader_train)\n",
    "with torch.no_grad():\n",
    "    for id_img, batch in bar:\n",
    "        # get the inputs; data is a list of [inputs]\n",
    "        X = batch\n",
    "        X = X.to(device)\n",
    "        # forward\n",
    "        y_hat = model.feature(X)\n",
    "        # accum in a list predictions\n",
    "        y_hat_all.append(y_hat)\n",
    "        #accum in a list identifactor of the image to not loss the treace\n",
    "        id_img_all.append(id_img)\n",
    "\n",
    "# concat tensors/lists along batch dimension\n",
    "predictions = torch.cat(y_hat_all, dim=0)\n",
    "id_img_all = [item for t in id_img_all for item in t]\n",
    "#to numpy\n",
    "predictions = predictions.detach().to(\"cpu\").numpy()\n",
    "predictions.shape"
   ]
  },
  {
   "cell_type": "markdown",
   "metadata": {},
   "source": [
    "Insert features into dataframe training"
   ]
  },
  {
   "cell_type": "code",
   "execution_count": 21,
   "metadata": {},
   "outputs": [
    {
     "data": {
      "text/plain": [
       "('8d39384ff786f101be108a7bcb734907',\n",
       " array([-0.04466913, -0.00340137, -0.01552563, ...,  0.5724023 ,\n",
       "         0.17565875, -0.0266775 ], dtype=float32))"
      ]
     },
     "execution_count": 21,
     "metadata": {},
     "output_type": "execute_result"
    }
   ],
   "source": [
    "id_img_all[0], predictions[0]"
   ]
  },
  {
   "cell_type": "code",
   "execution_count": 22,
   "metadata": {},
   "outputs": [
    {
     "data": {
      "text/html": [
       "<div>\n",
       "<style scoped>\n",
       "    .dataframe tbody tr th:only-of-type {\n",
       "        vertical-align: middle;\n",
       "    }\n",
       "\n",
       "    .dataframe tbody tr th {\n",
       "        vertical-align: top;\n",
       "    }\n",
       "\n",
       "    .dataframe thead th {\n",
       "        text-align: right;\n",
       "    }\n",
       "</style>\n",
       "<table border=\"1\" class=\"dataframe\">\n",
       "  <thead>\n",
       "    <tr style=\"text-align: right;\">\n",
       "      <th></th>\n",
       "      <th>index</th>\n",
       "      <th>Id</th>\n",
       "      <th>Subject Focus</th>\n",
       "      <th>Eyes</th>\n",
       "      <th>Face</th>\n",
       "      <th>Near</th>\n",
       "      <th>Action</th>\n",
       "      <th>Accessory</th>\n",
       "      <th>Group</th>\n",
       "      <th>Collage</th>\n",
       "      <th>...</th>\n",
       "      <th>1270</th>\n",
       "      <th>1271</th>\n",
       "      <th>1272</th>\n",
       "      <th>1273</th>\n",
       "      <th>1274</th>\n",
       "      <th>1275</th>\n",
       "      <th>1276</th>\n",
       "      <th>1277</th>\n",
       "      <th>1278</th>\n",
       "      <th>1279</th>\n",
       "    </tr>\n",
       "  </thead>\n",
       "  <tbody>\n",
       "    <tr>\n",
       "      <th>0</th>\n",
       "      <td>5481</td>\n",
       "      <td>8d39384ff786f101be108a7bcb734907</td>\n",
       "      <td>0</td>\n",
       "      <td>1</td>\n",
       "      <td>1</td>\n",
       "      <td>1</td>\n",
       "      <td>0</td>\n",
       "      <td>0</td>\n",
       "      <td>0</td>\n",
       "      <td>0</td>\n",
       "      <td>...</td>\n",
       "      <td>-0.048660</td>\n",
       "      <td>-0.036852</td>\n",
       "      <td>0.501869</td>\n",
       "      <td>0.101538</td>\n",
       "      <td>-0.011447</td>\n",
       "      <td>0.096394</td>\n",
       "      <td>0.109855</td>\n",
       "      <td>0.572402</td>\n",
       "      <td>0.175659</td>\n",
       "      <td>-0.026678</td>\n",
       "    </tr>\n",
       "    <tr>\n",
       "      <th>1</th>\n",
       "      <td>5441</td>\n",
       "      <td>8c0f8cd3c05d5c33cc069b2c0b5b0098</td>\n",
       "      <td>0</td>\n",
       "      <td>1</td>\n",
       "      <td>1</td>\n",
       "      <td>1</td>\n",
       "      <td>0</td>\n",
       "      <td>0</td>\n",
       "      <td>0</td>\n",
       "      <td>0</td>\n",
       "      <td>...</td>\n",
       "      <td>-0.059928</td>\n",
       "      <td>-0.048179</td>\n",
       "      <td>0.110863</td>\n",
       "      <td>0.609003</td>\n",
       "      <td>-0.022778</td>\n",
       "      <td>-0.087733</td>\n",
       "      <td>0.048081</td>\n",
       "      <td>-0.116044</td>\n",
       "      <td>0.110561</td>\n",
       "      <td>0.209084</td>\n",
       "    </tr>\n",
       "    <tr>\n",
       "      <th>2</th>\n",
       "      <td>69</td>\n",
       "      <td>01a5427a15d9a398116c92724abb6e16</td>\n",
       "      <td>0</td>\n",
       "      <td>1</td>\n",
       "      <td>1</td>\n",
       "      <td>1</td>\n",
       "      <td>0</td>\n",
       "      <td>0</td>\n",
       "      <td>0</td>\n",
       "      <td>0</td>\n",
       "      <td>...</td>\n",
       "      <td>0.090395</td>\n",
       "      <td>0.054929</td>\n",
       "      <td>0.393047</td>\n",
       "      <td>0.301520</td>\n",
       "      <td>0.102754</td>\n",
       "      <td>0.323335</td>\n",
       "      <td>0.140073</td>\n",
       "      <td>-0.057332</td>\n",
       "      <td>0.314771</td>\n",
       "      <td>-0.119351</td>\n",
       "    </tr>\n",
       "    <tr>\n",
       "      <th>3</th>\n",
       "      <td>5119</td>\n",
       "      <td>83ffc3a217289c40605c8bdc21e05939</td>\n",
       "      <td>0</td>\n",
       "      <td>0</td>\n",
       "      <td>1</td>\n",
       "      <td>1</td>\n",
       "      <td>0</td>\n",
       "      <td>0</td>\n",
       "      <td>0</td>\n",
       "      <td>0</td>\n",
       "      <td>...</td>\n",
       "      <td>0.323016</td>\n",
       "      <td>0.029486</td>\n",
       "      <td>0.486436</td>\n",
       "      <td>0.054926</td>\n",
       "      <td>0.015337</td>\n",
       "      <td>-0.036464</td>\n",
       "      <td>0.233930</td>\n",
       "      <td>0.110510</td>\n",
       "      <td>0.141319</td>\n",
       "      <td>0.116216</td>\n",
       "    </tr>\n",
       "    <tr>\n",
       "      <th>4</th>\n",
       "      <td>2770</td>\n",
       "      <td>475c2ac1aa6eb3e280808d4e56a91e7d</td>\n",
       "      <td>0</td>\n",
       "      <td>1</td>\n",
       "      <td>1</td>\n",
       "      <td>1</td>\n",
       "      <td>0</td>\n",
       "      <td>0</td>\n",
       "      <td>1</td>\n",
       "      <td>0</td>\n",
       "      <td>...</td>\n",
       "      <td>0.146611</td>\n",
       "      <td>-0.000424</td>\n",
       "      <td>0.014192</td>\n",
       "      <td>0.392609</td>\n",
       "      <td>0.202484</td>\n",
       "      <td>0.528141</td>\n",
       "      <td>-0.127530</td>\n",
       "      <td>0.245761</td>\n",
       "      <td>0.152712</td>\n",
       "      <td>0.286858</td>\n",
       "    </tr>\n",
       "  </tbody>\n",
       "</table>\n",
       "<p>5 rows × 1297 columns</p>\n",
       "</div>"
      ],
      "text/plain": [
       "   index                                Id  Subject Focus  Eyes  Face  Near  \\\n",
       "0   5481  8d39384ff786f101be108a7bcb734907              0     1     1     1   \n",
       "1   5441  8c0f8cd3c05d5c33cc069b2c0b5b0098              0     1     1     1   \n",
       "2     69  01a5427a15d9a398116c92724abb6e16              0     1     1     1   \n",
       "3   5119  83ffc3a217289c40605c8bdc21e05939              0     0     1     1   \n",
       "4   2770  475c2ac1aa6eb3e280808d4e56a91e7d              0     1     1     1   \n",
       "\n",
       "   Action  Accessory  Group  Collage  ...      1270      1271      1272  \\\n",
       "0       0          0      0        0  ... -0.048660 -0.036852  0.501869   \n",
       "1       0          0      0        0  ... -0.059928 -0.048179  0.110863   \n",
       "2       0          0      0        0  ...  0.090395  0.054929  0.393047   \n",
       "3       0          0      0        0  ...  0.323016  0.029486  0.486436   \n",
       "4       0          0      1        0  ...  0.146611 -0.000424  0.014192   \n",
       "\n",
       "       1273      1274      1275      1276      1277      1278      1279  \n",
       "0  0.101538 -0.011447  0.096394  0.109855  0.572402  0.175659 -0.026678  \n",
       "1  0.609003 -0.022778 -0.087733  0.048081 -0.116044  0.110561  0.209084  \n",
       "2  0.301520  0.102754  0.323335  0.140073 -0.057332  0.314771 -0.119351  \n",
       "3  0.054926  0.015337 -0.036464  0.233930  0.110510  0.141319  0.116216  \n",
       "4  0.392609  0.202484  0.528141 -0.127530  0.245761  0.152712  0.286858  \n",
       "\n",
       "[5 rows x 1297 columns]"
      ]
     },
     "execution_count": 22,
     "metadata": {},
     "output_type": "execute_result"
    }
   ],
   "source": [
    "df_feature_map = pd.DataFrame(data=predictions)\n",
    "df_feature_map['Id'] = pd.DataFrame(id_img_all) \n",
    "df_train_stack = pd.merge(df_train, df_feature_map, on=['Id','Id'], how='left')\n",
    "df_train_stack.head()"
   ]
  },
  {
   "cell_type": "markdown",
   "metadata": {},
   "source": [
    "Build the xgboost again"
   ]
  },
  {
   "cell_type": "code",
   "execution_count": 23,
   "metadata": {},
   "outputs": [],
   "source": [
    "df_train_stack_ = df_train_stack.drop(columns=['index','Id','nPawpularity','path'])\n",
    "X = df_train_stack_.drop(columns=['Pawpularity'])\n",
    "Y = df_train_stack_['Pawpularity']\n",
    "\n",
    "X_train, X_val, Y_train, Y_val = train_test_split(X, Y, test_size=val_size)"
   ]
  },
  {
   "cell_type": "code",
   "execution_count": 24,
   "metadata": {},
   "outputs": [
    {
     "data": {
      "text/plain": [
       "XGBRegressor(base_score=None, booster='gbtree', colsample_bylevel=None,\n",
       "             colsample_bynode=None, colsample_bytree=None,\n",
       "             enable_categorical=False, gamma=None, gpu_id=None,\n",
       "             importance_type=None, interaction_constraints=None,\n",
       "             learning_rate=0.1, max_delta_step=None, max_depth=5,\n",
       "             min_child_weight=None, missing=nan, monotone_constraints=None,\n",
       "             n_estimators=1000, n_jobs=None, num_parallel_tree=None,\n",
       "             predictor=None, random_state=17, reg_alpha=None, reg_lambda=None,\n",
       "             scale_pos_weight=None, subsample=None, tree_method=None,\n",
       "             validate_parameters=None, verbosity=None)"
      ]
     },
     "execution_count": 24,
     "metadata": {},
     "output_type": "execute_result"
    }
   ],
   "source": [
    "# Model class\n",
    "model = XGBRegressor(random_state=random_seed, **params)\n",
    "model"
   ]
  },
  {
   "cell_type": "code",
   "execution_count": 25,
   "metadata": {},
   "outputs": [
    {
     "name": "stdout",
     "output_type": "stream",
     "text": [
      "[0]\tvalidation_0-rmse:39.63276\tvalidation_1-rmse:39.20909\n",
      "[1]\tvalidation_0-rmse:36.60750\tvalidation_1-rmse:36.33772\n",
      "[2]\tvalidation_0-rmse:33.94630\tvalidation_1-rmse:33.79595\n",
      "[3]\tvalidation_0-rmse:31.58274\tvalidation_1-rmse:31.61270\n",
      "[4]\tvalidation_0-rmse:29.50320\tvalidation_1-rmse:29.73606\n",
      "[5]\tvalidation_0-rmse:27.66912\tvalidation_1-rmse:28.12486\n",
      "[6]\tvalidation_0-rmse:26.07471\tvalidation_1-rmse:26.72642\n",
      "[7]\tvalidation_0-rmse:24.67367\tvalidation_1-rmse:25.51941\n",
      "[8]\tvalidation_0-rmse:23.45226\tvalidation_1-rmse:24.49393\n",
      "[9]\tvalidation_0-rmse:22.39732\tvalidation_1-rmse:23.64294\n",
      "[10]\tvalidation_0-rmse:21.47157\tvalidation_1-rmse:22.91329\n",
      "[11]\tvalidation_0-rmse:20.66878\tvalidation_1-rmse:22.29137\n",
      "[12]\tvalidation_0-rmse:19.96660\tvalidation_1-rmse:21.77514\n",
      "[13]\tvalidation_0-rmse:19.35264\tvalidation_1-rmse:21.36615\n",
      "[14]\tvalidation_0-rmse:18.82533\tvalidation_1-rmse:21.01291\n",
      "[15]\tvalidation_0-rmse:18.36995\tvalidation_1-rmse:20.70745\n",
      "[16]\tvalidation_0-rmse:17.96492\tvalidation_1-rmse:20.49008\n",
      "[17]\tvalidation_0-rmse:17.59966\tvalidation_1-rmse:20.29675\n",
      "[18]\tvalidation_0-rmse:17.29138\tvalidation_1-rmse:20.14491\n",
      "[19]\tvalidation_0-rmse:17.00688\tvalidation_1-rmse:20.00844\n",
      "[20]\tvalidation_0-rmse:16.75116\tvalidation_1-rmse:19.89374\n",
      "[21]\tvalidation_0-rmse:16.53371\tvalidation_1-rmse:19.79590\n",
      "[22]\tvalidation_0-rmse:16.31022\tvalidation_1-rmse:19.73911\n",
      "[23]\tvalidation_0-rmse:16.12289\tvalidation_1-rmse:19.67526\n",
      "[24]\tvalidation_0-rmse:15.96624\tvalidation_1-rmse:19.62792\n",
      "[25]\tvalidation_0-rmse:15.81631\tvalidation_1-rmse:19.58260\n",
      "[26]\tvalidation_0-rmse:15.65478\tvalidation_1-rmse:19.55426\n",
      "[27]\tvalidation_0-rmse:15.50726\tvalidation_1-rmse:19.52627\n",
      "[28]\tvalidation_0-rmse:15.36570\tvalidation_1-rmse:19.51310\n",
      "[29]\tvalidation_0-rmse:15.23154\tvalidation_1-rmse:19.48554\n",
      "[30]\tvalidation_0-rmse:15.15194\tvalidation_1-rmse:19.47445\n",
      "[31]\tvalidation_0-rmse:15.02846\tvalidation_1-rmse:19.45276\n",
      "[32]\tvalidation_0-rmse:14.95725\tvalidation_1-rmse:19.44174\n",
      "[33]\tvalidation_0-rmse:14.82705\tvalidation_1-rmse:19.44547\n",
      "[34]\tvalidation_0-rmse:14.74608\tvalidation_1-rmse:19.42358\n",
      "[35]\tvalidation_0-rmse:14.65871\tvalidation_1-rmse:19.41160\n",
      "[36]\tvalidation_0-rmse:14.56663\tvalidation_1-rmse:19.41356\n",
      "[37]\tvalidation_0-rmse:14.50544\tvalidation_1-rmse:19.39980\n",
      "[38]\tvalidation_0-rmse:14.39561\tvalidation_1-rmse:19.39710\n",
      "[39]\tvalidation_0-rmse:14.32205\tvalidation_1-rmse:19.38828\n",
      "[40]\tvalidation_0-rmse:14.23146\tvalidation_1-rmse:19.38279\n",
      "[41]\tvalidation_0-rmse:14.11613\tvalidation_1-rmse:19.36887\n",
      "[42]\tvalidation_0-rmse:14.05257\tvalidation_1-rmse:19.37465\n",
      "[43]\tvalidation_0-rmse:13.96128\tvalidation_1-rmse:19.37731\n",
      "[44]\tvalidation_0-rmse:13.86131\tvalidation_1-rmse:19.37304\n",
      "[45]\tvalidation_0-rmse:13.80630\tvalidation_1-rmse:19.36989\n",
      "[46]\tvalidation_0-rmse:13.74085\tvalidation_1-rmse:19.36570\n",
      "[47]\tvalidation_0-rmse:13.68620\tvalidation_1-rmse:19.35965\n",
      "[48]\tvalidation_0-rmse:13.63293\tvalidation_1-rmse:19.36434\n",
      "[49]\tvalidation_0-rmse:13.57510\tvalidation_1-rmse:19.37139\n",
      "[50]\tvalidation_0-rmse:13.51731\tvalidation_1-rmse:19.37440\n",
      "[51]\tvalidation_0-rmse:13.42583\tvalidation_1-rmse:19.35681\n",
      "[52]\tvalidation_0-rmse:13.36318\tvalidation_1-rmse:19.36129\n",
      "[53]\tvalidation_0-rmse:13.30734\tvalidation_1-rmse:19.34437\n",
      "[54]\tvalidation_0-rmse:13.23391\tvalidation_1-rmse:19.33594\n",
      "[55]\tvalidation_0-rmse:13.14685\tvalidation_1-rmse:19.33413\n",
      "[56]\tvalidation_0-rmse:13.08092\tvalidation_1-rmse:19.34791\n",
      "[57]\tvalidation_0-rmse:13.02796\tvalidation_1-rmse:19.35207\n",
      "[58]\tvalidation_0-rmse:12.99680\tvalidation_1-rmse:19.34924\n",
      "[59]\tvalidation_0-rmse:12.95237\tvalidation_1-rmse:19.34079\n",
      "[60]\tvalidation_0-rmse:12.88280\tvalidation_1-rmse:19.33320\n",
      "[61]\tvalidation_0-rmse:12.84471\tvalidation_1-rmse:19.33031\n",
      "[62]\tvalidation_0-rmse:12.81045\tvalidation_1-rmse:19.33451\n",
      "[63]\tvalidation_0-rmse:12.74226\tvalidation_1-rmse:19.33614\n",
      "[64]\tvalidation_0-rmse:12.70292\tvalidation_1-rmse:19.33082\n",
      "[65]\tvalidation_0-rmse:12.63732\tvalidation_1-rmse:19.32499\n",
      "[66]\tvalidation_0-rmse:12.60232\tvalidation_1-rmse:19.32593\n",
      "[67]\tvalidation_0-rmse:12.55047\tvalidation_1-rmse:19.32200\n",
      "[68]\tvalidation_0-rmse:12.48405\tvalidation_1-rmse:19.31990\n",
      "[69]\tvalidation_0-rmse:12.39213\tvalidation_1-rmse:19.31305\n",
      "[70]\tvalidation_0-rmse:12.30807\tvalidation_1-rmse:19.30878\n",
      "[71]\tvalidation_0-rmse:12.25491\tvalidation_1-rmse:19.30948\n",
      "[72]\tvalidation_0-rmse:12.21540\tvalidation_1-rmse:19.31902\n",
      "[73]\tvalidation_0-rmse:12.15623\tvalidation_1-rmse:19.31764\n",
      "[74]\tvalidation_0-rmse:12.09451\tvalidation_1-rmse:19.31722\n",
      "[75]\tvalidation_0-rmse:12.02175\tvalidation_1-rmse:19.31097\n",
      "[76]\tvalidation_0-rmse:11.98003\tvalidation_1-rmse:19.31165\n",
      "[77]\tvalidation_0-rmse:11.95132\tvalidation_1-rmse:19.32682\n",
      "[78]\tvalidation_0-rmse:11.89075\tvalidation_1-rmse:19.32237\n",
      "[79]\tvalidation_0-rmse:11.84649\tvalidation_1-rmse:19.32388\n",
      "[80]\tvalidation_0-rmse:11.81523\tvalidation_1-rmse:19.32512\n"
     ]
    },
    {
     "data": {
      "text/plain": [
       "XGBRegressor(base_score=0.5, booster='gbtree', colsample_bylevel=1,\n",
       "             colsample_bynode=1, colsample_bytree=1, enable_categorical=False,\n",
       "             gamma=0, gpu_id=-1, importance_type=None,\n",
       "             interaction_constraints='', learning_rate=0.1, max_delta_step=0,\n",
       "             max_depth=5, min_child_weight=1, missing=nan,\n",
       "             monotone_constraints='()', n_estimators=1000, n_jobs=8,\n",
       "             num_parallel_tree=1, predictor='auto', random_state=17,\n",
       "             reg_alpha=0, reg_lambda=1, scale_pos_weight=1, subsample=1,\n",
       "             tree_method='exact', validate_parameters=1, verbosity=None)"
      ]
     },
     "execution_count": 25,
     "metadata": {},
     "output_type": "execute_result"
    }
   ],
   "source": [
    "model.fit(X_train, Y_train, early_stopping_rounds=10, eval_set= [(X_train, Y_train), (X_val, Y_val)])"
   ]
  },
  {
   "cell_type": "markdown",
   "metadata": {},
   "source": [
    "Evaluation"
   ]
  },
  {
   "cell_type": "code",
   "execution_count": 27,
   "metadata": {},
   "outputs": [
    {
     "name": "stdout",
     "output_type": "stream",
     "text": [
      "RMSE val = 19.308776636887973\n"
     ]
    }
   ],
   "source": [
    "Y_preds = model.predict(X_val)\n",
    "rmse_val = rmse(Y_val, Y_preds)\n",
    "print(f\"RMSE val = {rmse_val}\")"
   ]
  },
  {
   "cell_type": "markdown",
   "metadata": {},
   "source": [
    "Save the model"
   ]
  },
  {
   "cell_type": "code",
   "execution_count": 28,
   "metadata": {},
   "outputs": [],
   "source": [
    "model.save_model('../models/xgboost_effnetb0_plusfactors.json')"
   ]
  }
 ],
 "metadata": {
  "interpreter": {
   "hash": "d505ab66768e0f52d15f6216e8a8c3dc397fe5701f926bbe62040675e76e7e11"
  },
  "kernelspec": {
   "display_name": "Python 3.9.6 64-bit ('deepsing': conda)",
   "name": "python3"
  },
  "language_info": {
   "codemirror_mode": {
    "name": "ipython",
    "version": 3
   },
   "file_extension": ".py",
   "mimetype": "text/x-python",
   "name": "python",
   "nbconvert_exporter": "python",
   "pygments_lexer": "ipython3",
   "version": "3.9.6"
  },
  "orig_nbformat": 4
 },
 "nbformat": 4,
 "nbformat_minor": 2
}
